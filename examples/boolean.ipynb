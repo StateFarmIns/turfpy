{
 "cells": [
  {
   "cell_type": "markdown",
   "metadata": {},
   "source": [
    "# Boolean\n",
    "This notebook demonstrates all the examples of boolean"
   ]
  },
  {
   "cell_type": "markdown",
   "metadata": {},
   "source": [
    "## Boolean Disjoint\n",
    "Takes two features and returns (TRUE) if the two geometries do not touch or overlap."
   ]
  },
  {
   "cell_type": "code",
   "execution_count": null,
   "metadata": {},
   "outputs": [],
   "source": [
    "from geojson import Feature, Point\n",
    "from turfpy.boolean import boolean_disjoint\n",
    "\n",
    "feature_1 = Feature(geometry=Point((19.0760, 72.8777)))\n",
    "feature_2 = Feature(geometry=Point((29.0760, 72.8777)))\n",
    "boolean_disjoint(feature_1, feature_2)"
   ]
  },
  {
   "cell_type": "markdown",
   "metadata": {},
   "source": [
    "## Boolean Intersects\n",
    "Takes two features and returns (TRUE) if the intersection of the two geometries is NOT an empty set."
   ]
  },
  {
   "cell_type": "code",
   "execution_count": null,
   "metadata": {},
   "outputs": [],
   "source": [
    "from geojson import Feature, Point\n",
    "from turfpy.boolean import boolean_intersects\n",
    "\n",
    "feature_1 = Feature(geometry=Point((19.0760, 72.8777)))\n",
    "feature_2 = Feature(geometry=Point((29.0760, 72.8777)))\n",
    "boolean_intersects(feature_1, feature_2)"
   ]
  }
 ],
 "metadata": {
  "kernelspec": {
   "display_name": "Python 3",
   "language": "python",
   "name": "python3"
  },
  "language_info": {
   "codemirror_mode": {
    "name": "ipython",
    "version": 3
   },
   "file_extension": ".py",
   "mimetype": "text/x-python",
   "name": "python",
   "nbconvert_exporter": "python",
   "pygments_lexer": "ipython3",
   "version": "3.10.10"
  }
 },
 "nbformat": 4,
 "nbformat_minor": 4
}
