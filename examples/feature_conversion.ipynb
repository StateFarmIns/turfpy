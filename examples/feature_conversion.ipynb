{
 "cells": [
  {
   "cell_type": "markdown",
   "metadata": {},
   "source": [
    "# Feature Conversion\n",
    "This notebook demonstrates all the examples of feature conversion"
   ]
  },
  {
   "cell_type": "markdown",
   "metadata": {},
   "source": [
    "## Polygon To Line\n",
    "Takes a Polygon or MultiPolygon and convert it to a line."
   ]
  },
  {
   "cell_type": "code",
   "execution_count": 6,
   "metadata": {},
   "outputs": [
    {
     "data": {
      "application/vnd.jupyter.widget-view+json": {
       "model_id": "d91a3338fe6e44328d770d3a215c8220",
       "version_major": 2,
       "version_minor": 0
      },
      "text/plain": [
       "Map(center=[20.04303061200023, -11.832275390625002], controls=(ZoomControl(options=['position', 'zoom_in_text'…"
      ]
     },
     "execution_count": 6,
     "metadata": {},
     "output_type": "execute_result"
    }
   ],
   "source": [
    "from turfpy.feature_conversion import polygon_to_line\n",
    "from geojson import Polygon\n",
    "from geojson import Feature\n",
    "from ipyleaflet import Map, WidgetControl\n",
    "from ipywidgets import HTML\n",
    "\n",
    "feature_1 = Feature(\n",
    "    geometry=Polygon(\n",
    "        [[(2.38, 57.322), (23.194, -20.28), (-120.43, 19.15), (2.38, 57.322)]]\n",
    "    )\n",
    ")\n",
    "\n",
    "geo_json = polygon_to_line(feature_1)\n",
    "\n",
    "m = Map(center=[20.04303061200023, -11.832275390625002], zoom=2)\n",
    "\n",
    "m.add_layer(geo_json)\n",
    "\n",
    "html = HTML()\n",
    "html.layout.margin = \"0px 20px 10px 20px\"\n",
    "html.value = \"\"\"\n",
    "        <h4>Polygon to Line for given geojson</h4>\n",
    "        <h4>{}</h4>\n",
    "    \"\"\".format(geo_json)\n",
    "control = WidgetControl(widget=html, position=\"topright\")\n",
    "m.add_control(control)"
   ]
  }
 ],
 "metadata": {
  "kernelspec": {
   "display_name": "Python 3",
   "language": "python",
   "name": "python3"
  },
  "language_info": {
   "codemirror_mode": {
    "name": "ipython",
    "version": 3
   },
   "file_extension": ".py",
   "mimetype": "text/x-python",
   "name": "python",
   "nbconvert_exporter": "python",
   "pygments_lexer": "ipython3",
   "version": "3.10.10"
  }
 },
 "nbformat": 4,
 "nbformat_minor": 4
}
